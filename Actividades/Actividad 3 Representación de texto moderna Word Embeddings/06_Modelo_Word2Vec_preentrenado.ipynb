{
  "cells": [
    {
      "cell_type": "markdown",
      "metadata": {
        "id": "view-in-github",
        "colab_type": "text"
      },
      "source": [
        "<a href=\"https://colab.research.google.com/github/AgustinCocciardi/IA-Aplicada/blob/main/06_Modelo_Word2Vec_preentrenado.ipynb\" target=\"_parent\"><img src=\"https://colab.research.google.com/assets/colab-badge.svg\" alt=\"Open In Colab\"/></a>"
      ]
    },
    {
      "cell_type": "code",
      "execution_count": 1,
      "metadata": {
        "id": "ja8VmQ6YTznn"
      },
      "outputs": [],
      "source": [
        "%matplotlib inline"
      ]
    },
    {
      "cell_type": "markdown",
      "metadata": {
        "id": "17KTLLm5Tzno"
      },
      "source": [
        "\n",
        "Word2Vec Model\n",
        "==============\n",
        "\n",
        "Introduces Gensim's Word2Vec model and demonstrates its use on the `Lee Evaluation Corpus\n",
        "<https://hekyll.services.adelaide.edu.au/dspace/bitstream/2440/28910/1/hdl_28910.pdf>`_.\n",
        "\n"
      ]
    },
    {
      "cell_type": "code",
      "execution_count": 2,
      "metadata": {
        "id": "kVpMjm34Tznq"
      },
      "outputs": [],
      "source": [
        "import logging\n",
        "logging.basicConfig(format='%(asctime)s : %(levelname)s : %(message)s', level=logging.INFO)"
      ]
    },
    {
      "cell_type": "markdown",
      "metadata": {
        "id": "FKV6q_AVTznr"
      },
      "source": [
        "In case you missed the buzz, Word2Vec is a widely used algorithm based on neural\n",
        "networks, commonly referred to as \"deep learning\" (though word2vec itself is rather shallow).\n",
        "Using large amounts of unannotated plain text, word2vec learns relationships\n",
        "between words automatically. The output are vectors, one vector per word,\n",
        "with remarkable linear relationships that allow us to do things like:\n",
        "\n",
        "* vec(\"king\") - vec(\"man\") + vec(\"woman\") =~ vec(\"queen\")\n",
        "* vec(\"Montreal Canadiens\") – vec(\"Montreal\") + vec(\"Toronto\") =~ vec(\"Toronto Maple Leafs\").\n",
        "\n",
        "Word2vec is very useful in `automatic text tagging\n",
        "<https://github.com/RaRe-Technologies/movie-plots-by-genre>`_\\ , recommender\n",
        "systems and machine translation.\n",
        "\n",
        "This tutorial:\n",
        "\n",
        "#. Introduces ``Word2Vec`` as an improvement over traditional bag-of-words\n",
        "#. Shows off a demo of ``Word2Vec`` using a pre-trained model\n",
        "#. Demonstrates training a new model from your own data\n",
        "#. Demonstrates loading and saving models\n",
        "#. Introduces several training parameters and demonstrates their effect\n",
        "#. Discusses memory requirements\n",
        "#. Visualizes Word2Vec embeddings by applying dimensionality reduction\n",
        "\n",
        "Review: Bag-of-words\n",
        "--------------------\n",
        "\n",
        ".. Note:: Feel free to skip these review sections if you're already familiar with the models.\n",
        "\n",
        "You may be familiar with the `bag-of-words model\n",
        "<https://en.wikipedia.org/wiki/Bag-of-words_model>`_ from the\n",
        "`core_concepts_vector` section.\n",
        "This model transforms each document to a fixed-length vector of integers.\n",
        "For example, given the sentences:\n",
        "\n",
        "- ``John likes to watch movies. Mary likes movies too.``\n",
        "- ``John also likes to watch football games. Mary hates football.``\n",
        "\n",
        "The model outputs the vectors:\n",
        "\n",
        "- ``[1, 2, 1, 1, 2, 1, 1, 0, 0, 0, 0]``\n",
        "- ``[1, 1, 1, 1, 0, 1, 0, 1, 2, 1, 1]``\n",
        "\n",
        "Each vector has 10 elements, where each element counts the number of times a\n",
        "particular word occurred in the document.\n",
        "The order of elements is arbitrary.\n",
        "In the example above, the order of the elements corresponds to the words:\n",
        "``[\"John\", \"likes\", \"to\", \"watch\", \"movies\", \"Mary\", \"too\", \"also\", \"football\", \"games\", \"hates\"]``.\n",
        "\n",
        "Bag-of-words models are surprisingly effective, but have several weaknesses.\n",
        "\n",
        "First, they lose all information about word order: \"John likes Mary\" and\n",
        "\"Mary likes John\" correspond to identical vectors. There is a solution: bag\n",
        "of `n-grams <https://en.wikipedia.org/wiki/N-gram>`__\n",
        "models consider word phrases of length n to represent documents as\n",
        "fixed-length vectors to capture local word order but suffer from data\n",
        "sparsity and high dimensionality.\n",
        "\n",
        "Second, the model does not attempt to learn the meaning of the underlying\n",
        "words, and as a consequence, the distance between vectors doesn't always\n",
        "reflect the difference in meaning.  The ``Word2Vec`` model addresses this\n",
        "second problem.\n",
        "\n",
        "Introducing: the ``Word2Vec`` Model\n",
        "-----------------------------------\n",
        "\n",
        "``Word2Vec`` is a more recent model that embeds words in a lower-dimensional\n",
        "vector space using a shallow neural network. The result is a set of\n",
        "word-vectors where vectors close together in vector space have similar\n",
        "meanings based on context, and word-vectors distant to each other have\n",
        "differing meanings. For example, ``strong`` and ``powerful`` would be close\n",
        "together and ``strong`` and ``Paris`` would be relatively far.\n",
        "\n",
        "The are two versions of this model and :py:class:`~gensim.models.word2vec.Word2Vec`\n",
        "class implements them both:\n",
        "\n",
        "1. Skip-grams (SG)\n",
        "2. Continuous-bag-of-words (CBOW)\n",
        "\n",
        ".. Important::\n",
        "  Don't let the implementation details below scare you.\n",
        "  They're advanced material: if it's too much, then move on to the next section.\n",
        "\n",
        "The `Word2Vec Skip-gram <http://mccormickml.com/2016/04/19/word2vec-tutorial-the-skip-gram-model>`__\n",
        "model, for example, takes in pairs (word1, word2) generated by moving a\n",
        "window across text data, and trains a 1-hidden-layer neural network based on\n",
        "the synthetic task of given an input word, giving us a predicted probability\n",
        "distribution of nearby words to the input. A virtual `one-hot\n",
        "<https://en.wikipedia.org/wiki/One-hot>`__ encoding of words\n",
        "goes through a 'projection layer' to the hidden layer; these projection\n",
        "weights are later interpreted as the word embeddings. So if the hidden layer\n",
        "has 300 neurons, this network will give us 300-dimensional word embeddings.\n",
        "\n",
        "Continuous-bag-of-words Word2vec is very similar to the skip-gram model. It\n",
        "is also a 1-hidden-layer neural network. The synthetic training task now uses\n",
        "the average of multiple input context words, rather than a single word as in\n",
        "skip-gram, to predict the center word. Again, the projection weights that\n",
        "turn one-hot words into averageable vectors, of the same width as the hidden\n",
        "layer, are interpreted as the word embeddings.\n",
        "\n",
        "\n"
      ]
    },
    {
      "cell_type": "markdown",
      "metadata": {
        "id": "hySfpaDjTzns"
      },
      "source": [
        "Word2Vec Demo\n",
        "-------------\n",
        "\n",
        "To see what ``Word2Vec`` can do, let's download a pre-trained model and play\n",
        "around with it. We will fetch the Word2Vec model trained on part of the\n",
        "Google News dataset, covering approximately 3 million words and phrases. Such\n",
        "a model can take hours to train, but since it's already available,\n",
        "downloading and loading it with Gensim takes minutes.\n",
        "\n",
        ".. Important::\n",
        "  The model is approximately 2GB, so you'll need a decent network connection\n",
        "  to proceed.  Otherwise, skip ahead to the \"Training Your Own Model\" section\n",
        "  below.\n",
        "\n",
        "You may also check out an `online word2vec demo\n",
        "<http://radimrehurek.com/2014/02/word2vec-tutorial/#app>`_ where you can try\n",
        "this vector algebra for yourself. That demo runs ``word2vec`` on the\n",
        "**entire** Google News dataset, of **about 100 billion words**.\n",
        "\n",
        "\n"
      ]
    },
    {
      "cell_type": "code",
      "execution_count": 3,
      "metadata": {
        "colab": {
          "base_uri": "https://localhost:8080/",
          "height": 321
        },
        "id": "Sxifug1WTznt",
        "outputId": "bd0a4e04-5f60-4028-b3e0-55f4d009d12d"
      },
      "outputs": [
        {
          "output_type": "stream",
          "name": "stdout",
          "text": [
            "[==============================--------------------] 61.4% 1021.3/1662.8MB downloaded"
          ]
        },
        {
          "output_type": "error",
          "ename": "ContentTooShortError",
          "evalue": "<urlopen error retrieval incomplete: got only 1070890844 out of 1743563840 bytes>",
          "traceback": [
            "\u001b[0;31m---------------------------------------------------------------------------\u001b[0m",
            "\u001b[0;31mContentTooShortError\u001b[0m                      Traceback (most recent call last)",
            "\u001b[0;32m<ipython-input-3-593528365eab>\u001b[0m in \u001b[0;36m<cell line: 2>\u001b[0;34m()\u001b[0m\n\u001b[1;32m      1\u001b[0m \u001b[0;32mimport\u001b[0m \u001b[0mgensim\u001b[0m\u001b[0;34m.\u001b[0m\u001b[0mdownloader\u001b[0m \u001b[0;32mas\u001b[0m \u001b[0mapi\u001b[0m\u001b[0;34m\u001b[0m\u001b[0;34m\u001b[0m\u001b[0m\n\u001b[0;32m----> 2\u001b[0;31m \u001b[0mwv\u001b[0m \u001b[0;34m=\u001b[0m \u001b[0mapi\u001b[0m\u001b[0;34m.\u001b[0m\u001b[0mload\u001b[0m\u001b[0;34m(\u001b[0m\u001b[0;34m'word2vec-google-news-300'\u001b[0m\u001b[0;34m)\u001b[0m\u001b[0;34m\u001b[0m\u001b[0;34m\u001b[0m\u001b[0m\n\u001b[0m",
            "\u001b[0;32m/usr/local/lib/python3.10/dist-packages/gensim/downloader.py\u001b[0m in \u001b[0;36mload\u001b[0;34m(name, return_path)\u001b[0m\n\u001b[1;32m    494\u001b[0m     \u001b[0mpath\u001b[0m \u001b[0;34m=\u001b[0m \u001b[0mos\u001b[0m\u001b[0;34m.\u001b[0m\u001b[0mpath\u001b[0m\u001b[0;34m.\u001b[0m\u001b[0mjoin\u001b[0m\u001b[0;34m(\u001b[0m\u001b[0mfolder_dir\u001b[0m\u001b[0;34m,\u001b[0m \u001b[0mfile_name\u001b[0m\u001b[0;34m)\u001b[0m\u001b[0;34m\u001b[0m\u001b[0;34m\u001b[0m\u001b[0m\n\u001b[1;32m    495\u001b[0m     \u001b[0;32mif\u001b[0m \u001b[0;32mnot\u001b[0m \u001b[0mos\u001b[0m\u001b[0;34m.\u001b[0m\u001b[0mpath\u001b[0m\u001b[0;34m.\u001b[0m\u001b[0mexists\u001b[0m\u001b[0;34m(\u001b[0m\u001b[0mfolder_dir\u001b[0m\u001b[0;34m)\u001b[0m\u001b[0;34m:\u001b[0m\u001b[0;34m\u001b[0m\u001b[0;34m\u001b[0m\u001b[0m\n\u001b[0;32m--> 496\u001b[0;31m         \u001b[0m_download\u001b[0m\u001b[0;34m(\u001b[0m\u001b[0mname\u001b[0m\u001b[0;34m)\u001b[0m\u001b[0;34m\u001b[0m\u001b[0;34m\u001b[0m\u001b[0m\n\u001b[0m\u001b[1;32m    497\u001b[0m \u001b[0;34m\u001b[0m\u001b[0m\n\u001b[1;32m    498\u001b[0m     \u001b[0;32mif\u001b[0m \u001b[0mreturn_path\u001b[0m\u001b[0;34m:\u001b[0m\u001b[0;34m\u001b[0m\u001b[0;34m\u001b[0m\u001b[0m\n",
            "\u001b[0;32m/usr/local/lib/python3.10/dist-packages/gensim/downloader.py\u001b[0m in \u001b[0;36m_download\u001b[0;34m(name)\u001b[0m\n\u001b[1;32m    394\u001b[0m         \u001b[0mfname\u001b[0m \u001b[0;34m=\u001b[0m \u001b[0;34m\"{fname}.gz\"\u001b[0m\u001b[0;34m.\u001b[0m\u001b[0mformat\u001b[0m\u001b[0;34m(\u001b[0m\u001b[0mfname\u001b[0m\u001b[0;34m=\u001b[0m\u001b[0mname\u001b[0m\u001b[0;34m)\u001b[0m\u001b[0;34m\u001b[0m\u001b[0;34m\u001b[0m\u001b[0m\n\u001b[1;32m    395\u001b[0m         \u001b[0mdst_path\u001b[0m \u001b[0;34m=\u001b[0m \u001b[0mos\u001b[0m\u001b[0;34m.\u001b[0m\u001b[0mpath\u001b[0m\u001b[0;34m.\u001b[0m\u001b[0mjoin\u001b[0m\u001b[0;34m(\u001b[0m\u001b[0mtmp_dir\u001b[0m\u001b[0;34m,\u001b[0m \u001b[0mfname\u001b[0m\u001b[0;34m)\u001b[0m\u001b[0;34m\u001b[0m\u001b[0;34m\u001b[0m\u001b[0m\n\u001b[0;32m--> 396\u001b[0;31m         \u001b[0murllib\u001b[0m\u001b[0;34m.\u001b[0m\u001b[0murlretrieve\u001b[0m\u001b[0;34m(\u001b[0m\u001b[0murl_data\u001b[0m\u001b[0;34m,\u001b[0m \u001b[0mdst_path\u001b[0m\u001b[0;34m,\u001b[0m \u001b[0mreporthook\u001b[0m\u001b[0;34m=\u001b[0m\u001b[0m_progress\u001b[0m\u001b[0;34m)\u001b[0m\u001b[0;34m\u001b[0m\u001b[0;34m\u001b[0m\u001b[0m\n\u001b[0m\u001b[1;32m    397\u001b[0m         \u001b[0;32mif\u001b[0m \u001b[0m_calculate_md5_checksum\u001b[0m\u001b[0;34m(\u001b[0m\u001b[0mdst_path\u001b[0m\u001b[0;34m)\u001b[0m \u001b[0;34m==\u001b[0m \u001b[0m_get_checksum\u001b[0m\u001b[0;34m(\u001b[0m\u001b[0mname\u001b[0m\u001b[0;34m)\u001b[0m\u001b[0;34m:\u001b[0m\u001b[0;34m\u001b[0m\u001b[0;34m\u001b[0m\u001b[0m\n\u001b[1;32m    398\u001b[0m             \u001b[0msys\u001b[0m\u001b[0;34m.\u001b[0m\u001b[0mstdout\u001b[0m\u001b[0;34m.\u001b[0m\u001b[0mwrite\u001b[0m\u001b[0;34m(\u001b[0m\u001b[0;34m\"\\n\"\u001b[0m\u001b[0;34m)\u001b[0m\u001b[0;34m\u001b[0m\u001b[0;34m\u001b[0m\u001b[0m\n",
            "\u001b[0;32m/usr/lib/python3.10/urllib/request.py\u001b[0m in \u001b[0;36murlretrieve\u001b[0;34m(url, filename, reporthook, data)\u001b[0m\n\u001b[1;32m    278\u001b[0m \u001b[0;34m\u001b[0m\u001b[0m\n\u001b[1;32m    279\u001b[0m     \u001b[0;32mif\u001b[0m \u001b[0msize\u001b[0m \u001b[0;34m>=\u001b[0m \u001b[0;36m0\u001b[0m \u001b[0;32mand\u001b[0m \u001b[0mread\u001b[0m \u001b[0;34m<\u001b[0m \u001b[0msize\u001b[0m\u001b[0;34m:\u001b[0m\u001b[0;34m\u001b[0m\u001b[0;34m\u001b[0m\u001b[0m\n\u001b[0;32m--> 280\u001b[0;31m         raise ContentTooShortError(\n\u001b[0m\u001b[1;32m    281\u001b[0m             \u001b[0;34m\"retrieval incomplete: got only %i out of %i bytes\"\u001b[0m\u001b[0;34m\u001b[0m\u001b[0;34m\u001b[0m\u001b[0m\n\u001b[1;32m    282\u001b[0m             % (read, size), result)\n",
            "\u001b[0;31mContentTooShortError\u001b[0m: <urlopen error retrieval incomplete: got only 1070890844 out of 1743563840 bytes>"
          ]
        }
      ],
      "source": [
        "import gensim.downloader as api\n",
        "wv = api.load('word2vec-google-news-300')"
      ]
    },
    {
      "cell_type": "markdown",
      "metadata": {
        "id": "fesuFmeXTznu"
      },
      "source": [
        "A common operation is to retrieve the vocabulary of a model. That is trivial:\n",
        "\n"
      ]
    },
    {
      "cell_type": "code",
      "execution_count": null,
      "metadata": {
        "colab": {
          "base_uri": "https://localhost:8080/"
        },
        "id": "D6ZFHjZiTznu",
        "outputId": "05f56733-c370-4a20-9517-206381647600"
      },
      "outputs": [
        {
          "output_type": "stream",
          "name": "stdout",
          "text": [
            "word #0/3000000 is </s>\n",
            "word #1/3000000 is in\n",
            "word #2/3000000 is for\n",
            "word #3/3000000 is that\n",
            "word #4/3000000 is is\n",
            "word #5/3000000 is on\n",
            "word #6/3000000 is ##\n",
            "word #7/3000000 is The\n",
            "word #8/3000000 is with\n",
            "word #9/3000000 is said\n"
          ]
        }
      ],
      "source": [
        "for index, word in enumerate(wv.index_to_key):\n",
        "    if index == 10:\n",
        "        break\n",
        "    print(f\"word #{index}/{len(wv.index_to_key)} is {word}\")"
      ]
    },
    {
      "cell_type": "markdown",
      "metadata": {
        "id": "QiRzpKXZTznv"
      },
      "source": [
        "We can easily obtain vectors for terms the model is familiar with:\n",
        "\n",
        "\n"
      ]
    },
    {
      "cell_type": "code",
      "execution_count": null,
      "metadata": {
        "id": "_3wPqn4JTznv"
      },
      "outputs": [],
      "source": [
        "vec_king = wv['king']"
      ]
    },
    {
      "cell_type": "markdown",
      "metadata": {
        "id": "48gDMwBjTznw"
      },
      "source": [
        "Unfortunately, the model is unable to infer vectors for unfamiliar words.\n",
        "This is one limitation of Word2Vec: if this limitation matters to you, check\n",
        "out the FastText model.\n",
        "\n",
        "\n"
      ]
    },
    {
      "cell_type": "code",
      "execution_count": null,
      "metadata": {
        "colab": {
          "base_uri": "https://localhost:8080/"
        },
        "id": "RAyZZ0hXTznw",
        "outputId": "e80075cc-9e1c-4d08-b677-35c6100bb5f3"
      },
      "outputs": [
        {
          "output_type": "stream",
          "name": "stdout",
          "text": [
            "The word 'cameroon' does not appear in this model\n"
          ]
        }
      ],
      "source": [
        "try:\n",
        "    vec_cameroon = wv['cameroon']\n",
        "except KeyError:\n",
        "    print(\"The word 'cameroon' does not appear in this model\")"
      ]
    },
    {
      "cell_type": "markdown",
      "metadata": {
        "id": "8KDTo6wvTznx"
      },
      "source": [
        "Moving on, ``Word2Vec`` supports several word similarity tasks out of the\n",
        "box.  You can see how the similarity intuitively decreases as the words get\n",
        "less and less similar.\n",
        "\n",
        "\n"
      ]
    },
    {
      "cell_type": "code",
      "execution_count": null,
      "metadata": {
        "colab": {
          "base_uri": "https://localhost:8080/"
        },
        "id": "Hfgoku2fTznx",
        "outputId": "0f96fe4c-e69c-4ced-b56f-0ad18fb61e43"
      },
      "outputs": [
        {
          "output_type": "stream",
          "name": "stdout",
          "text": [
            "'car'\t'minivan'\t0.69\n",
            "'car'\t'bicycle'\t0.54\n",
            "'car'\t'airplane'\t0.42\n",
            "'car'\t'cereal'\t0.14\n",
            "'car'\t'communism'\t0.06\n"
          ]
        }
      ],
      "source": [
        "pairs = [\n",
        "    ('car', 'minivan'),   # a minivan is a kind of car\n",
        "    ('car', 'bicycle'),   # still a wheeled vehicle\n",
        "    ('car', 'airplane'),  # ok, no wheels, but still a vehicle\n",
        "    ('car', 'cereal'),    # ... and so on\n",
        "    ('car', 'communism'),\n",
        "]\n",
        "for w1, w2 in pairs:\n",
        "    print('%r\\t%r\\t%.2f' % (w1, w2, wv.similarity(w1, w2)))"
      ]
    },
    {
      "cell_type": "markdown",
      "metadata": {
        "id": "9euX121_Tzny"
      },
      "source": [
        "Print the 5 most similar words to \"car\" or \"minivan\"\n",
        "\n"
      ]
    },
    {
      "cell_type": "code",
      "execution_count": null,
      "metadata": {
        "colab": {
          "base_uri": "https://localhost:8080/"
        },
        "id": "N1M19CgPTzny",
        "outputId": "baeb3285-bca2-4a0f-f817-d581473c7e43"
      },
      "outputs": [
        {
          "output_type": "stream",
          "name": "stdout",
          "text": [
            "[('SUV', 0.8532192707061768), ('vehicle', 0.8175783753395081), ('pickup_truck', 0.7763688564300537), ('Jeep', 0.7567334175109863), ('Ford_Explorer', 0.7565720081329346)]\n"
          ]
        }
      ],
      "source": [
        "print(wv.most_similar(positive=['car', 'minivan'], topn=5))"
      ]
    },
    {
      "cell_type": "markdown",
      "metadata": {
        "id": "zAeXWp-TTzny"
      },
      "source": [
        "Which of the below does not belong in the sequence?\n",
        "\n"
      ]
    },
    {
      "cell_type": "code",
      "execution_count": null,
      "metadata": {
        "colab": {
          "base_uri": "https://localhost:8080/"
        },
        "id": "vbSal9d_Tznz",
        "outputId": "57797ba6-bc15-42cc-e3e9-8e9a2d735a1d"
      },
      "outputs": [
        {
          "output_type": "stream",
          "name": "stdout",
          "text": [
            "car\n"
          ]
        }
      ],
      "source": [
        "print(wv.doesnt_match(['fire', 'water', 'land', 'sea', 'air', 'car']))"
      ]
    },
    {
      "cell_type": "markdown",
      "metadata": {
        "id": "yxkKt_tcTznz"
      },
      "source": [
        "Training Your Own Model\n",
        "-----------------------\n",
        "\n",
        "To start, you'll need some data for training the model. For the following\n",
        "examples, we'll use the `Lee Evaluation Corpus\n",
        "<https://hekyll.services.adelaide.edu.au/dspace/bitstream/2440/28910/1/hdl_28910.pdf>`_\n",
        "(which you `already have\n",
        "<https://github.com/RaRe-Technologies/gensim/blob/develop/gensim/test/test_data/lee_background.cor>`_\n",
        "if you've installed Gensim).\n",
        "\n",
        "This corpus is small enough to fit entirely in memory, but we'll implement a\n",
        "memory-friendly iterator that reads it line-by-line to demonstrate how you\n",
        "would handle a larger corpus.\n",
        "\n",
        "\n"
      ]
    },
    {
      "cell_type": "code",
      "execution_count": 10,
      "metadata": {
        "id": "-E_MqlZETznz"
      },
      "outputs": [],
      "source": [
        "from gensim.test.utils import datapath\n",
        "from gensim import utils\n",
        "\n",
        "class MyCorpus:\n",
        "    \"\"\"An iterator that yields sentences (lists of str).\"\"\"\n",
        "\n",
        "    def __iter__(self):\n",
        "        corpus_path = datapath('lee_background.cor')\n",
        "        for line in open(corpus_path):\n",
        "            # assume there's one document per line, tokens separated by whitespace\n",
        "            yield utils.simple_preprocess(line)"
      ]
    },
    {
      "cell_type": "markdown",
      "metadata": {
        "id": "_4oYDiuATznz"
      },
      "source": [
        "If we wanted to do any custom preprocessing, e.g. decode a non-standard\n",
        "encoding, lowercase, remove numbers, extract named entities... All of this can\n",
        "be done inside the ``MyCorpus`` iterator and ``word2vec`` doesn’t need to\n",
        "know. All that is required is that the input yields one sentence (list of\n",
        "utf8 words) after another.\n",
        "\n",
        "Let's go ahead and train a model on our corpus.  Don't worry about the\n",
        "training parameters much for now, we'll revisit them later.\n",
        "\n",
        "\n"
      ]
    },
    {
      "cell_type": "code",
      "execution_count": 11,
      "metadata": {
        "id": "7II6NZKjTzn0"
      },
      "outputs": [],
      "source": [
        "import gensim.models\n",
        "\n",
        "sentences = MyCorpus()\n",
        "model = gensim.models.Word2Vec(sentences=sentences)"
      ]
    },
    {
      "cell_type": "markdown",
      "metadata": {
        "id": "sTKYWfmSTzn0"
      },
      "source": [
        "Once we have our model, we can use it in the same way as in the demo above.\n",
        "\n",
        "The main part of the model is ``model.wv``\\ , where \"wv\" stands for \"word vectors\".\n",
        "\n",
        "\n"
      ]
    },
    {
      "cell_type": "code",
      "execution_count": 12,
      "metadata": {
        "id": "UAMXtBeTTzn1"
      },
      "outputs": [],
      "source": [
        "vec_king = model.wv['king']"
      ]
    },
    {
      "cell_type": "markdown",
      "metadata": {
        "id": "R3vnTxyITzn1"
      },
      "source": [
        "Retrieving the vocabulary works the same way:\n",
        "\n"
      ]
    },
    {
      "cell_type": "code",
      "execution_count": 13,
      "metadata": {
        "colab": {
          "base_uri": "https://localhost:8080/",
          "height": 193
        },
        "id": "fnPYhTPSTzn1",
        "outputId": "8b0420a0-861c-42e2-bf82-d5d5a104e32d"
      },
      "outputs": [
        {
          "output_type": "error",
          "ename": "NameError",
          "evalue": "name 'wv' is not defined",
          "traceback": [
            "\u001b[0;31m---------------------------------------------------------------------------\u001b[0m",
            "\u001b[0;31mNameError\u001b[0m                                 Traceback (most recent call last)",
            "\u001b[0;32m<ipython-input-13-ffdcc81e5543>\u001b[0m in \u001b[0;36m<cell line: 1>\u001b[0;34m()\u001b[0m\n\u001b[0;32m----> 1\u001b[0;31m \u001b[0;32mfor\u001b[0m \u001b[0mindex\u001b[0m\u001b[0;34m,\u001b[0m \u001b[0mword\u001b[0m \u001b[0;32min\u001b[0m \u001b[0menumerate\u001b[0m\u001b[0;34m(\u001b[0m\u001b[0mwv\u001b[0m\u001b[0;34m.\u001b[0m\u001b[0mindex_to_key\u001b[0m\u001b[0;34m)\u001b[0m\u001b[0;34m:\u001b[0m\u001b[0;34m\u001b[0m\u001b[0;34m\u001b[0m\u001b[0m\n\u001b[0m\u001b[1;32m      2\u001b[0m     \u001b[0;32mif\u001b[0m \u001b[0mindex\u001b[0m \u001b[0;34m==\u001b[0m \u001b[0;36m10\u001b[0m\u001b[0;34m:\u001b[0m\u001b[0;34m\u001b[0m\u001b[0;34m\u001b[0m\u001b[0m\n\u001b[1;32m      3\u001b[0m         \u001b[0;32mbreak\u001b[0m\u001b[0;34m\u001b[0m\u001b[0;34m\u001b[0m\u001b[0m\n\u001b[1;32m      4\u001b[0m     \u001b[0mprint\u001b[0m\u001b[0;34m(\u001b[0m\u001b[0;34mf\"word #{index}/{len(wv.index_to_key)} is {word}\"\u001b[0m\u001b[0;34m)\u001b[0m\u001b[0;34m\u001b[0m\u001b[0;34m\u001b[0m\u001b[0m\n",
            "\u001b[0;31mNameError\u001b[0m: name 'wv' is not defined"
          ]
        }
      ],
      "source": [
        "for index, word in enumerate(wv.index_to_key):\n",
        "    if index == 10:\n",
        "        break\n",
        "    print(f\"word #{index}/{len(wv.index_to_key)} is {word}\")"
      ]
    },
    {
      "cell_type": "markdown",
      "metadata": {
        "id": "ZghGEqIATzn1"
      },
      "source": [
        "Storing and loading models\n",
        "--------------------------\n",
        "\n",
        "You'll notice that training non-trivial models can take time.  Once you've\n",
        "trained your model and it works as expected, you can save it to disk.  That\n",
        "way, you don't have to spend time training it all over again later.\n",
        "\n",
        "You can store/load models using the standard gensim methods:\n",
        "\n",
        "\n"
      ]
    },
    {
      "cell_type": "code",
      "execution_count": 14,
      "metadata": {
        "id": "761opvNvTzn2"
      },
      "outputs": [],
      "source": [
        "import tempfile\n",
        "\n",
        "with tempfile.NamedTemporaryFile(prefix='gensim-model-', delete=False) as tmp:\n",
        "    temporary_filepath = tmp.name\n",
        "    model.save(temporary_filepath)\n",
        "    #\n",
        "    # The model is now safely stored in the filepath.\n",
        "    # You can copy it to other machines, share it with others, etc.\n",
        "    #\n",
        "    # To load a saved model:\n",
        "    #\n",
        "    new_model = gensim.models.Word2Vec.load(temporary_filepath)"
      ]
    },
    {
      "cell_type": "markdown",
      "metadata": {
        "id": "9j8lNn3BTzn2"
      },
      "source": [
        "which uses pickle internally, optionally ``mmap``\\ ‘ing the model’s internal\n",
        "large NumPy matrices into virtual memory directly from disk files, for\n",
        "inter-process memory sharing.\n",
        "\n",
        "In addition, you can load models created by the original C tool, both using\n",
        "its text and binary formats::\n",
        "\n",
        "  model = gensim.models.KeyedVectors.load_word2vec_format('/tmp/vectors.txt', binary=False)\n",
        "  # using gzipped/bz2 input works too, no need to unzip\n",
        "  model = gensim.models.KeyedVectors.load_word2vec_format('/tmp/vectors.bin.gz', binary=True)\n",
        "\n",
        "\n"
      ]
    },
    {
      "cell_type": "markdown",
      "metadata": {
        "id": "dUVvIysGTzn2"
      },
      "source": [
        "Training Parameters\n",
        "-------------------\n",
        "\n",
        "``Word2Vec`` accepts several parameters that affect both training speed and quality.\n",
        "\n",
        "min_count\n",
        "---------\n",
        "\n",
        "``min_count`` is for pruning the internal dictionary. Words that appear only\n",
        "once or twice in a billion-word corpus are probably uninteresting typos and\n",
        "garbage. In addition, there’s not enough data to make any meaningful training\n",
        "on those words, so it’s best to ignore them:\n",
        "\n",
        "default value of min_count=5\n",
        "\n"
      ]
    },
    {
      "cell_type": "code",
      "execution_count": 15,
      "metadata": {
        "id": "zuHokYj7Tzn2"
      },
      "outputs": [],
      "source": [
        "model = gensim.models.Word2Vec(sentences, min_count=10)"
      ]
    },
    {
      "cell_type": "markdown",
      "metadata": {
        "id": "67fFZMrRTzn2"
      },
      "source": [
        "vector_size\n",
        "-----------\n",
        "\n",
        "``vector_size`` is the number of dimensions (N) of the N-dimensional space that\n",
        "gensim Word2Vec maps the words onto.\n",
        "\n",
        "Bigger size values require more training data, but can lead to better (more\n",
        "accurate) models. Reasonable values are in the tens to hundreds.\n",
        "\n",
        "\n"
      ]
    },
    {
      "cell_type": "code",
      "execution_count": 16,
      "metadata": {
        "id": "CLe4nHYDTzn2"
      },
      "outputs": [],
      "source": [
        "# The default value of vector_size is 100.\n",
        "model = gensim.models.Word2Vec(sentences, vector_size=200)"
      ]
    },
    {
      "cell_type": "markdown",
      "metadata": {
        "id": "RYG5WcAFTzn3"
      },
      "source": [
        "workers\n",
        "-------\n",
        "\n",
        "``workers`` , the last of the major parameters (full list `here\n",
        "<http://radimrehurek.com/gensim/models/word2vec.html#gensim.models.word2vec.Word2Vec>`_)\n",
        "is for training parallelization, to speed up training:\n",
        "\n",
        "\n"
      ]
    },
    {
      "cell_type": "code",
      "execution_count": 17,
      "metadata": {
        "id": "3YukZVIkTzn3"
      },
      "outputs": [],
      "source": [
        "# default value of workers=3 (tutorial says 1...)\n",
        "model = gensim.models.Word2Vec(sentences, workers=4)"
      ]
    },
    {
      "cell_type": "markdown",
      "metadata": {
        "id": "vGF4rg4ITzn3"
      },
      "source": [
        "The ``workers`` parameter only has an effect if you have `Cython\n",
        "<http://cython.org/>`_ installed. Without Cython, you’ll only be able to use\n",
        "one core because of the `GIL\n",
        "<https://wiki.python.org/moin/GlobalInterpreterLock>`_ (and ``word2vec``\n",
        "training will be `miserably slow\n",
        "<http://rare-technologies.com/word2vec-in-python-part-two-optimizing/>`_\\ ).\n",
        "\n",
        "\n"
      ]
    },
    {
      "cell_type": "markdown",
      "metadata": {
        "id": "GwJ8X9tiTzn8"
      },
      "source": [
        "Memory\n",
        "------\n",
        "\n",
        "At its core, ``word2vec`` model parameters are stored as matrices (NumPy\n",
        "arrays). Each array is **#vocabulary** (controlled by the ``min_count`` parameter)\n",
        "times **vector size** (the ``vector_size`` parameter) of floats (single precision aka 4 bytes).\n",
        "\n",
        "Three such matrices are held in RAM (work is underway to reduce that number\n",
        "to two, or even one). So if your input contains 100,000 unique words, and you\n",
        "asked for layer ``vector_size=200``\\ , the model will require approx.\n",
        "``100,000*200*4*3 bytes = ~229MB``.\n",
        "\n",
        "There’s a little extra memory needed for storing the vocabulary tree (100,000 words would\n",
        "take a few megabytes), but unless your words are extremely loooong strings, memory\n",
        "footprint will be dominated by the three matrices above.\n",
        "\n",
        "\n"
      ]
    },
    {
      "cell_type": "markdown",
      "metadata": {
        "id": "iMA0Ox8rTzn8"
      },
      "source": [
        "Evaluating\n",
        "----------\n",
        "\n",
        "``Word2Vec`` training is an unsupervised task, there’s no good way to\n",
        "objectively evaluate the result. Evaluation depends on your end application.\n",
        "\n",
        "Google has released their testing set of about 20,000 syntactic and semantic\n",
        "test examples, following the “A is to B as C is to D” task. It is provided in\n",
        "the 'datasets' folder.\n",
        "\n",
        "For example a syntactic analogy of comparative type is ``bad:worse;good:?``.\n",
        "There are total of 9 types of syntactic comparisons in the dataset like\n",
        "plural nouns and nouns of opposite meaning.\n",
        "\n",
        "The semantic questions contain five types of semantic analogies, such as\n",
        "capital cities (``Paris:France;Tokyo:?``) or family members\n",
        "(``brother:sister;dad:?``).\n",
        "\n",
        "\n"
      ]
    },
    {
      "cell_type": "markdown",
      "metadata": {
        "id": "mSBtiS8ETzn9"
      },
      "source": [
        "Gensim supports the same evaluation set, in exactly the same format:\n",
        "\n",
        "\n"
      ]
    },
    {
      "cell_type": "code",
      "execution_count": 18,
      "metadata": {
        "colab": {
          "base_uri": "https://localhost:8080/"
        },
        "id": "MGnvlD_NTzn9",
        "outputId": "5b5690b1-bf2d-4bbc-c7b3-e9c54d1db46f"
      },
      "outputs": [
        {
          "output_type": "execute_result",
          "data": {
            "text/plain": [
              "(0.0,\n",
              " [{'section': 'capital-common-countries',\n",
              "   'correct': [],\n",
              "   'incorrect': [('CANBERRA', 'AUSTRALIA', 'KABUL', 'AFGHANISTAN'),\n",
              "    ('CANBERRA', 'AUSTRALIA', 'PARIS', 'FRANCE'),\n",
              "    ('KABUL', 'AFGHANISTAN', 'PARIS', 'FRANCE'),\n",
              "    ('KABUL', 'AFGHANISTAN', 'CANBERRA', 'AUSTRALIA'),\n",
              "    ('PARIS', 'FRANCE', 'CANBERRA', 'AUSTRALIA'),\n",
              "    ('PARIS', 'FRANCE', 'KABUL', 'AFGHANISTAN')]},\n",
              "  {'section': 'capital-world',\n",
              "   'correct': [],\n",
              "   'incorrect': [('CANBERRA', 'AUSTRALIA', 'KABUL', 'AFGHANISTAN'),\n",
              "    ('KABUL', 'AFGHANISTAN', 'PARIS', 'FRANCE')]},\n",
              "  {'section': 'currency', 'correct': [], 'incorrect': []},\n",
              "  {'section': 'city-in-state', 'correct': [], 'incorrect': []},\n",
              "  {'section': 'family',\n",
              "   'correct': [],\n",
              "   'incorrect': [('HE', 'SHE', 'HIS', 'HER'),\n",
              "    ('HE', 'SHE', 'MAN', 'WOMAN'),\n",
              "    ('HIS', 'HER', 'MAN', 'WOMAN'),\n",
              "    ('HIS', 'HER', 'HE', 'SHE'),\n",
              "    ('MAN', 'WOMAN', 'HE', 'SHE'),\n",
              "    ('MAN', 'WOMAN', 'HIS', 'HER')]},\n",
              "  {'section': 'gram1-adjective-to-adverb', 'correct': [], 'incorrect': []},\n",
              "  {'section': 'gram2-opposite', 'correct': [], 'incorrect': []},\n",
              "  {'section': 'gram3-comparative',\n",
              "   'correct': [],\n",
              "   'incorrect': [('GOOD', 'BETTER', 'GREAT', 'GREATER'),\n",
              "    ('GOOD', 'BETTER', 'LONG', 'LONGER'),\n",
              "    ('GOOD', 'BETTER', 'LOW', 'LOWER'),\n",
              "    ('GOOD', 'BETTER', 'SMALL', 'SMALLER'),\n",
              "    ('GREAT', 'GREATER', 'LONG', 'LONGER'),\n",
              "    ('GREAT', 'GREATER', 'LOW', 'LOWER'),\n",
              "    ('GREAT', 'GREATER', 'SMALL', 'SMALLER'),\n",
              "    ('GREAT', 'GREATER', 'GOOD', 'BETTER'),\n",
              "    ('LONG', 'LONGER', 'LOW', 'LOWER'),\n",
              "    ('LONG', 'LONGER', 'SMALL', 'SMALLER'),\n",
              "    ('LONG', 'LONGER', 'GOOD', 'BETTER'),\n",
              "    ('LONG', 'LONGER', 'GREAT', 'GREATER'),\n",
              "    ('LOW', 'LOWER', 'SMALL', 'SMALLER'),\n",
              "    ('LOW', 'LOWER', 'GOOD', 'BETTER'),\n",
              "    ('LOW', 'LOWER', 'GREAT', 'GREATER'),\n",
              "    ('LOW', 'LOWER', 'LONG', 'LONGER'),\n",
              "    ('SMALL', 'SMALLER', 'GOOD', 'BETTER'),\n",
              "    ('SMALL', 'SMALLER', 'GREAT', 'GREATER'),\n",
              "    ('SMALL', 'SMALLER', 'LONG', 'LONGER'),\n",
              "    ('SMALL', 'SMALLER', 'LOW', 'LOWER')]},\n",
              "  {'section': 'gram4-superlative',\n",
              "   'correct': [],\n",
              "   'incorrect': [('BIG', 'BIGGEST', 'GOOD', 'BEST'),\n",
              "    ('BIG', 'BIGGEST', 'GREAT', 'GREATEST'),\n",
              "    ('BIG', 'BIGGEST', 'LARGE', 'LARGEST'),\n",
              "    ('GOOD', 'BEST', 'GREAT', 'GREATEST'),\n",
              "    ('GOOD', 'BEST', 'LARGE', 'LARGEST'),\n",
              "    ('GOOD', 'BEST', 'BIG', 'BIGGEST'),\n",
              "    ('GREAT', 'GREATEST', 'LARGE', 'LARGEST'),\n",
              "    ('GREAT', 'GREATEST', 'BIG', 'BIGGEST'),\n",
              "    ('GREAT', 'GREATEST', 'GOOD', 'BEST'),\n",
              "    ('LARGE', 'LARGEST', 'BIG', 'BIGGEST'),\n",
              "    ('LARGE', 'LARGEST', 'GOOD', 'BEST'),\n",
              "    ('LARGE', 'LARGEST', 'GREAT', 'GREATEST')]},\n",
              "  {'section': 'gram5-present-participle',\n",
              "   'correct': [],\n",
              "   'incorrect': [('GO', 'GOING', 'LOOK', 'LOOKING'),\n",
              "    ('GO', 'GOING', 'PLAY', 'PLAYING'),\n",
              "    ('GO', 'GOING', 'RUN', 'RUNNING'),\n",
              "    ('GO', 'GOING', 'SAY', 'SAYING'),\n",
              "    ('LOOK', 'LOOKING', 'PLAY', 'PLAYING'),\n",
              "    ('LOOK', 'LOOKING', 'RUN', 'RUNNING'),\n",
              "    ('LOOK', 'LOOKING', 'SAY', 'SAYING'),\n",
              "    ('LOOK', 'LOOKING', 'GO', 'GOING'),\n",
              "    ('PLAY', 'PLAYING', 'RUN', 'RUNNING'),\n",
              "    ('PLAY', 'PLAYING', 'SAY', 'SAYING'),\n",
              "    ('PLAY', 'PLAYING', 'GO', 'GOING'),\n",
              "    ('PLAY', 'PLAYING', 'LOOK', 'LOOKING'),\n",
              "    ('RUN', 'RUNNING', 'SAY', 'SAYING'),\n",
              "    ('RUN', 'RUNNING', 'GO', 'GOING'),\n",
              "    ('RUN', 'RUNNING', 'LOOK', 'LOOKING'),\n",
              "    ('RUN', 'RUNNING', 'PLAY', 'PLAYING'),\n",
              "    ('SAY', 'SAYING', 'GO', 'GOING'),\n",
              "    ('SAY', 'SAYING', 'LOOK', 'LOOKING'),\n",
              "    ('SAY', 'SAYING', 'PLAY', 'PLAYING'),\n",
              "    ('SAY', 'SAYING', 'RUN', 'RUNNING')]},\n",
              "  {'section': 'gram6-nationality-adjective',\n",
              "   'correct': [],\n",
              "   'incorrect': [('AUSTRALIA', 'AUSTRALIAN', 'FRANCE', 'FRENCH'),\n",
              "    ('AUSTRALIA', 'AUSTRALIAN', 'INDIA', 'INDIAN'),\n",
              "    ('AUSTRALIA', 'AUSTRALIAN', 'ISRAEL', 'ISRAELI'),\n",
              "    ('AUSTRALIA', 'AUSTRALIAN', 'JAPAN', 'JAPANESE'),\n",
              "    ('AUSTRALIA', 'AUSTRALIAN', 'SWITZERLAND', 'SWISS'),\n",
              "    ('FRANCE', 'FRENCH', 'INDIA', 'INDIAN'),\n",
              "    ('FRANCE', 'FRENCH', 'ISRAEL', 'ISRAELI'),\n",
              "    ('FRANCE', 'FRENCH', 'JAPAN', 'JAPANESE'),\n",
              "    ('FRANCE', 'FRENCH', 'SWITZERLAND', 'SWISS'),\n",
              "    ('FRANCE', 'FRENCH', 'AUSTRALIA', 'AUSTRALIAN'),\n",
              "    ('INDIA', 'INDIAN', 'ISRAEL', 'ISRAELI'),\n",
              "    ('INDIA', 'INDIAN', 'JAPAN', 'JAPANESE'),\n",
              "    ('INDIA', 'INDIAN', 'SWITZERLAND', 'SWISS'),\n",
              "    ('INDIA', 'INDIAN', 'AUSTRALIA', 'AUSTRALIAN'),\n",
              "    ('INDIA', 'INDIAN', 'FRANCE', 'FRENCH'),\n",
              "    ('ISRAEL', 'ISRAELI', 'JAPAN', 'JAPANESE'),\n",
              "    ('ISRAEL', 'ISRAELI', 'SWITZERLAND', 'SWISS'),\n",
              "    ('ISRAEL', 'ISRAELI', 'AUSTRALIA', 'AUSTRALIAN'),\n",
              "    ('ISRAEL', 'ISRAELI', 'FRANCE', 'FRENCH'),\n",
              "    ('ISRAEL', 'ISRAELI', 'INDIA', 'INDIAN'),\n",
              "    ('JAPAN', 'JAPANESE', 'SWITZERLAND', 'SWISS'),\n",
              "    ('JAPAN', 'JAPANESE', 'AUSTRALIA', 'AUSTRALIAN'),\n",
              "    ('JAPAN', 'JAPANESE', 'FRANCE', 'FRENCH'),\n",
              "    ('JAPAN', 'JAPANESE', 'INDIA', 'INDIAN'),\n",
              "    ('JAPAN', 'JAPANESE', 'ISRAEL', 'ISRAELI'),\n",
              "    ('SWITZERLAND', 'SWISS', 'AUSTRALIA', 'AUSTRALIAN'),\n",
              "    ('SWITZERLAND', 'SWISS', 'FRANCE', 'FRENCH'),\n",
              "    ('SWITZERLAND', 'SWISS', 'INDIA', 'INDIAN'),\n",
              "    ('SWITZERLAND', 'SWISS', 'ISRAEL', 'ISRAELI'),\n",
              "    ('SWITZERLAND', 'SWISS', 'JAPAN', 'JAPANESE')]},\n",
              "  {'section': 'gram7-past-tense',\n",
              "   'correct': [],\n",
              "   'incorrect': [('GOING', 'WENT', 'PAYING', 'PAID'),\n",
              "    ('GOING', 'WENT', 'PLAYING', 'PLAYED'),\n",
              "    ('GOING', 'WENT', 'SAYING', 'SAID'),\n",
              "    ('GOING', 'WENT', 'TAKING', 'TOOK'),\n",
              "    ('PAYING', 'PAID', 'PLAYING', 'PLAYED'),\n",
              "    ('PAYING', 'PAID', 'SAYING', 'SAID'),\n",
              "    ('PAYING', 'PAID', 'TAKING', 'TOOK'),\n",
              "    ('PAYING', 'PAID', 'GOING', 'WENT'),\n",
              "    ('PLAYING', 'PLAYED', 'SAYING', 'SAID'),\n",
              "    ('PLAYING', 'PLAYED', 'TAKING', 'TOOK'),\n",
              "    ('PLAYING', 'PLAYED', 'GOING', 'WENT'),\n",
              "    ('PLAYING', 'PLAYED', 'PAYING', 'PAID'),\n",
              "    ('SAYING', 'SAID', 'TAKING', 'TOOK'),\n",
              "    ('SAYING', 'SAID', 'GOING', 'WENT'),\n",
              "    ('SAYING', 'SAID', 'PAYING', 'PAID'),\n",
              "    ('SAYING', 'SAID', 'PLAYING', 'PLAYED'),\n",
              "    ('TAKING', 'TOOK', 'GOING', 'WENT'),\n",
              "    ('TAKING', 'TOOK', 'PAYING', 'PAID'),\n",
              "    ('TAKING', 'TOOK', 'PLAYING', 'PLAYED'),\n",
              "    ('TAKING', 'TOOK', 'SAYING', 'SAID')]},\n",
              "  {'section': 'gram8-plural',\n",
              "   'correct': [],\n",
              "   'incorrect': [('BUILDING', 'BUILDINGS', 'CAR', 'CARS'),\n",
              "    ('BUILDING', 'BUILDINGS', 'CHILD', 'CHILDREN'),\n",
              "    ('BUILDING', 'BUILDINGS', 'MAN', 'MEN'),\n",
              "    ('BUILDING', 'BUILDINGS', 'ROAD', 'ROADS'),\n",
              "    ('BUILDING', 'BUILDINGS', 'WOMAN', 'WOMEN'),\n",
              "    ('CAR', 'CARS', 'CHILD', 'CHILDREN'),\n",
              "    ('CAR', 'CARS', 'MAN', 'MEN'),\n",
              "    ('CAR', 'CARS', 'ROAD', 'ROADS'),\n",
              "    ('CAR', 'CARS', 'WOMAN', 'WOMEN'),\n",
              "    ('CAR', 'CARS', 'BUILDING', 'BUILDINGS'),\n",
              "    ('CHILD', 'CHILDREN', 'MAN', 'MEN'),\n",
              "    ('CHILD', 'CHILDREN', 'ROAD', 'ROADS'),\n",
              "    ('CHILD', 'CHILDREN', 'WOMAN', 'WOMEN'),\n",
              "    ('CHILD', 'CHILDREN', 'BUILDING', 'BUILDINGS'),\n",
              "    ('CHILD', 'CHILDREN', 'CAR', 'CARS'),\n",
              "    ('MAN', 'MEN', 'ROAD', 'ROADS'),\n",
              "    ('MAN', 'MEN', 'WOMAN', 'WOMEN'),\n",
              "    ('MAN', 'MEN', 'BUILDING', 'BUILDINGS'),\n",
              "    ('MAN', 'MEN', 'CAR', 'CARS'),\n",
              "    ('MAN', 'MEN', 'CHILD', 'CHILDREN'),\n",
              "    ('ROAD', 'ROADS', 'WOMAN', 'WOMEN'),\n",
              "    ('ROAD', 'ROADS', 'BUILDING', 'BUILDINGS'),\n",
              "    ('ROAD', 'ROADS', 'CAR', 'CARS'),\n",
              "    ('ROAD', 'ROADS', 'CHILD', 'CHILDREN'),\n",
              "    ('ROAD', 'ROADS', 'MAN', 'MEN'),\n",
              "    ('WOMAN', 'WOMEN', 'BUILDING', 'BUILDINGS'),\n",
              "    ('WOMAN', 'WOMEN', 'CAR', 'CARS'),\n",
              "    ('WOMAN', 'WOMEN', 'CHILD', 'CHILDREN'),\n",
              "    ('WOMAN', 'WOMEN', 'MAN', 'MEN'),\n",
              "    ('WOMAN', 'WOMEN', 'ROAD', 'ROADS')]},\n",
              "  {'section': 'gram9-plural-verbs', 'correct': [], 'incorrect': []},\n",
              "  {'section': 'Total accuracy',\n",
              "   'correct': [],\n",
              "   'incorrect': [('CANBERRA', 'AUSTRALIA', 'KABUL', 'AFGHANISTAN'),\n",
              "    ('CANBERRA', 'AUSTRALIA', 'PARIS', 'FRANCE'),\n",
              "    ('KABUL', 'AFGHANISTAN', 'PARIS', 'FRANCE'),\n",
              "    ('KABUL', 'AFGHANISTAN', 'CANBERRA', 'AUSTRALIA'),\n",
              "    ('PARIS', 'FRANCE', 'CANBERRA', 'AUSTRALIA'),\n",
              "    ('PARIS', 'FRANCE', 'KABUL', 'AFGHANISTAN'),\n",
              "    ('CANBERRA', 'AUSTRALIA', 'KABUL', 'AFGHANISTAN'),\n",
              "    ('KABUL', 'AFGHANISTAN', 'PARIS', 'FRANCE'),\n",
              "    ('HE', 'SHE', 'HIS', 'HER'),\n",
              "    ('HE', 'SHE', 'MAN', 'WOMAN'),\n",
              "    ('HIS', 'HER', 'MAN', 'WOMAN'),\n",
              "    ('HIS', 'HER', 'HE', 'SHE'),\n",
              "    ('MAN', 'WOMAN', 'HE', 'SHE'),\n",
              "    ('MAN', 'WOMAN', 'HIS', 'HER'),\n",
              "    ('GOOD', 'BETTER', 'GREAT', 'GREATER'),\n",
              "    ('GOOD', 'BETTER', 'LONG', 'LONGER'),\n",
              "    ('GOOD', 'BETTER', 'LOW', 'LOWER'),\n",
              "    ('GOOD', 'BETTER', 'SMALL', 'SMALLER'),\n",
              "    ('GREAT', 'GREATER', 'LONG', 'LONGER'),\n",
              "    ('GREAT', 'GREATER', 'LOW', 'LOWER'),\n",
              "    ('GREAT', 'GREATER', 'SMALL', 'SMALLER'),\n",
              "    ('GREAT', 'GREATER', 'GOOD', 'BETTER'),\n",
              "    ('LONG', 'LONGER', 'LOW', 'LOWER'),\n",
              "    ('LONG', 'LONGER', 'SMALL', 'SMALLER'),\n",
              "    ('LONG', 'LONGER', 'GOOD', 'BETTER'),\n",
              "    ('LONG', 'LONGER', 'GREAT', 'GREATER'),\n",
              "    ('LOW', 'LOWER', 'SMALL', 'SMALLER'),\n",
              "    ('LOW', 'LOWER', 'GOOD', 'BETTER'),\n",
              "    ('LOW', 'LOWER', 'GREAT', 'GREATER'),\n",
              "    ('LOW', 'LOWER', 'LONG', 'LONGER'),\n",
              "    ('SMALL', 'SMALLER', 'GOOD', 'BETTER'),\n",
              "    ('SMALL', 'SMALLER', 'GREAT', 'GREATER'),\n",
              "    ('SMALL', 'SMALLER', 'LONG', 'LONGER'),\n",
              "    ('SMALL', 'SMALLER', 'LOW', 'LOWER'),\n",
              "    ('BIG', 'BIGGEST', 'GOOD', 'BEST'),\n",
              "    ('BIG', 'BIGGEST', 'GREAT', 'GREATEST'),\n",
              "    ('BIG', 'BIGGEST', 'LARGE', 'LARGEST'),\n",
              "    ('GOOD', 'BEST', 'GREAT', 'GREATEST'),\n",
              "    ('GOOD', 'BEST', 'LARGE', 'LARGEST'),\n",
              "    ('GOOD', 'BEST', 'BIG', 'BIGGEST'),\n",
              "    ('GREAT', 'GREATEST', 'LARGE', 'LARGEST'),\n",
              "    ('GREAT', 'GREATEST', 'BIG', 'BIGGEST'),\n",
              "    ('GREAT', 'GREATEST', 'GOOD', 'BEST'),\n",
              "    ('LARGE', 'LARGEST', 'BIG', 'BIGGEST'),\n",
              "    ('LARGE', 'LARGEST', 'GOOD', 'BEST'),\n",
              "    ('LARGE', 'LARGEST', 'GREAT', 'GREATEST'),\n",
              "    ('GO', 'GOING', 'LOOK', 'LOOKING'),\n",
              "    ('GO', 'GOING', 'PLAY', 'PLAYING'),\n",
              "    ('GO', 'GOING', 'RUN', 'RUNNING'),\n",
              "    ('GO', 'GOING', 'SAY', 'SAYING'),\n",
              "    ('LOOK', 'LOOKING', 'PLAY', 'PLAYING'),\n",
              "    ('LOOK', 'LOOKING', 'RUN', 'RUNNING'),\n",
              "    ('LOOK', 'LOOKING', 'SAY', 'SAYING'),\n",
              "    ('LOOK', 'LOOKING', 'GO', 'GOING'),\n",
              "    ('PLAY', 'PLAYING', 'RUN', 'RUNNING'),\n",
              "    ('PLAY', 'PLAYING', 'SAY', 'SAYING'),\n",
              "    ('PLAY', 'PLAYING', 'GO', 'GOING'),\n",
              "    ('PLAY', 'PLAYING', 'LOOK', 'LOOKING'),\n",
              "    ('RUN', 'RUNNING', 'SAY', 'SAYING'),\n",
              "    ('RUN', 'RUNNING', 'GO', 'GOING'),\n",
              "    ('RUN', 'RUNNING', 'LOOK', 'LOOKING'),\n",
              "    ('RUN', 'RUNNING', 'PLAY', 'PLAYING'),\n",
              "    ('SAY', 'SAYING', 'GO', 'GOING'),\n",
              "    ('SAY', 'SAYING', 'LOOK', 'LOOKING'),\n",
              "    ('SAY', 'SAYING', 'PLAY', 'PLAYING'),\n",
              "    ('SAY', 'SAYING', 'RUN', 'RUNNING'),\n",
              "    ('AUSTRALIA', 'AUSTRALIAN', 'FRANCE', 'FRENCH'),\n",
              "    ('AUSTRALIA', 'AUSTRALIAN', 'INDIA', 'INDIAN'),\n",
              "    ('AUSTRALIA', 'AUSTRALIAN', 'ISRAEL', 'ISRAELI'),\n",
              "    ('AUSTRALIA', 'AUSTRALIAN', 'JAPAN', 'JAPANESE'),\n",
              "    ('AUSTRALIA', 'AUSTRALIAN', 'SWITZERLAND', 'SWISS'),\n",
              "    ('FRANCE', 'FRENCH', 'INDIA', 'INDIAN'),\n",
              "    ('FRANCE', 'FRENCH', 'ISRAEL', 'ISRAELI'),\n",
              "    ('FRANCE', 'FRENCH', 'JAPAN', 'JAPANESE'),\n",
              "    ('FRANCE', 'FRENCH', 'SWITZERLAND', 'SWISS'),\n",
              "    ('FRANCE', 'FRENCH', 'AUSTRALIA', 'AUSTRALIAN'),\n",
              "    ('INDIA', 'INDIAN', 'ISRAEL', 'ISRAELI'),\n",
              "    ('INDIA', 'INDIAN', 'JAPAN', 'JAPANESE'),\n",
              "    ('INDIA', 'INDIAN', 'SWITZERLAND', 'SWISS'),\n",
              "    ('INDIA', 'INDIAN', 'AUSTRALIA', 'AUSTRALIAN'),\n",
              "    ('INDIA', 'INDIAN', 'FRANCE', 'FRENCH'),\n",
              "    ('ISRAEL', 'ISRAELI', 'JAPAN', 'JAPANESE'),\n",
              "    ('ISRAEL', 'ISRAELI', 'SWITZERLAND', 'SWISS'),\n",
              "    ('ISRAEL', 'ISRAELI', 'AUSTRALIA', 'AUSTRALIAN'),\n",
              "    ('ISRAEL', 'ISRAELI', 'FRANCE', 'FRENCH'),\n",
              "    ('ISRAEL', 'ISRAELI', 'INDIA', 'INDIAN'),\n",
              "    ('JAPAN', 'JAPANESE', 'SWITZERLAND', 'SWISS'),\n",
              "    ('JAPAN', 'JAPANESE', 'AUSTRALIA', 'AUSTRALIAN'),\n",
              "    ('JAPAN', 'JAPANESE', 'FRANCE', 'FRENCH'),\n",
              "    ('JAPAN', 'JAPANESE', 'INDIA', 'INDIAN'),\n",
              "    ('JAPAN', 'JAPANESE', 'ISRAEL', 'ISRAELI'),\n",
              "    ('SWITZERLAND', 'SWISS', 'AUSTRALIA', 'AUSTRALIAN'),\n",
              "    ('SWITZERLAND', 'SWISS', 'FRANCE', 'FRENCH'),\n",
              "    ('SWITZERLAND', 'SWISS', 'INDIA', 'INDIAN'),\n",
              "    ('SWITZERLAND', 'SWISS', 'ISRAEL', 'ISRAELI'),\n",
              "    ('SWITZERLAND', 'SWISS', 'JAPAN', 'JAPANESE'),\n",
              "    ('GOING', 'WENT', 'PAYING', 'PAID'),\n",
              "    ('GOING', 'WENT', 'PLAYING', 'PLAYED'),\n",
              "    ('GOING', 'WENT', 'SAYING', 'SAID'),\n",
              "    ('GOING', 'WENT', 'TAKING', 'TOOK'),\n",
              "    ('PAYING', 'PAID', 'PLAYING', 'PLAYED'),\n",
              "    ('PAYING', 'PAID', 'SAYING', 'SAID'),\n",
              "    ('PAYING', 'PAID', 'TAKING', 'TOOK'),\n",
              "    ('PAYING', 'PAID', 'GOING', 'WENT'),\n",
              "    ('PLAYING', 'PLAYED', 'SAYING', 'SAID'),\n",
              "    ('PLAYING', 'PLAYED', 'TAKING', 'TOOK'),\n",
              "    ('PLAYING', 'PLAYED', 'GOING', 'WENT'),\n",
              "    ('PLAYING', 'PLAYED', 'PAYING', 'PAID'),\n",
              "    ('SAYING', 'SAID', 'TAKING', 'TOOK'),\n",
              "    ('SAYING', 'SAID', 'GOING', 'WENT'),\n",
              "    ('SAYING', 'SAID', 'PAYING', 'PAID'),\n",
              "    ('SAYING', 'SAID', 'PLAYING', 'PLAYED'),\n",
              "    ('TAKING', 'TOOK', 'GOING', 'WENT'),\n",
              "    ('TAKING', 'TOOK', 'PAYING', 'PAID'),\n",
              "    ('TAKING', 'TOOK', 'PLAYING', 'PLAYED'),\n",
              "    ('TAKING', 'TOOK', 'SAYING', 'SAID'),\n",
              "    ('BUILDING', 'BUILDINGS', 'CAR', 'CARS'),\n",
              "    ('BUILDING', 'BUILDINGS', 'CHILD', 'CHILDREN'),\n",
              "    ('BUILDING', 'BUILDINGS', 'MAN', 'MEN'),\n",
              "    ('BUILDING', 'BUILDINGS', 'ROAD', 'ROADS'),\n",
              "    ('BUILDING', 'BUILDINGS', 'WOMAN', 'WOMEN'),\n",
              "    ('CAR', 'CARS', 'CHILD', 'CHILDREN'),\n",
              "    ('CAR', 'CARS', 'MAN', 'MEN'),\n",
              "    ('CAR', 'CARS', 'ROAD', 'ROADS'),\n",
              "    ('CAR', 'CARS', 'WOMAN', 'WOMEN'),\n",
              "    ('CAR', 'CARS', 'BUILDING', 'BUILDINGS'),\n",
              "    ('CHILD', 'CHILDREN', 'MAN', 'MEN'),\n",
              "    ('CHILD', 'CHILDREN', 'ROAD', 'ROADS'),\n",
              "    ('CHILD', 'CHILDREN', 'WOMAN', 'WOMEN'),\n",
              "    ('CHILD', 'CHILDREN', 'BUILDING', 'BUILDINGS'),\n",
              "    ('CHILD', 'CHILDREN', 'CAR', 'CARS'),\n",
              "    ('MAN', 'MEN', 'ROAD', 'ROADS'),\n",
              "    ('MAN', 'MEN', 'WOMAN', 'WOMEN'),\n",
              "    ('MAN', 'MEN', 'BUILDING', 'BUILDINGS'),\n",
              "    ('MAN', 'MEN', 'CAR', 'CARS'),\n",
              "    ('MAN', 'MEN', 'CHILD', 'CHILDREN'),\n",
              "    ('ROAD', 'ROADS', 'WOMAN', 'WOMEN'),\n",
              "    ('ROAD', 'ROADS', 'BUILDING', 'BUILDINGS'),\n",
              "    ('ROAD', 'ROADS', 'CAR', 'CARS'),\n",
              "    ('ROAD', 'ROADS', 'CHILD', 'CHILDREN'),\n",
              "    ('ROAD', 'ROADS', 'MAN', 'MEN'),\n",
              "    ('WOMAN', 'WOMEN', 'BUILDING', 'BUILDINGS'),\n",
              "    ('WOMAN', 'WOMEN', 'CAR', 'CARS'),\n",
              "    ('WOMAN', 'WOMEN', 'CHILD', 'CHILDREN'),\n",
              "    ('WOMAN', 'WOMEN', 'MAN', 'MEN'),\n",
              "    ('WOMAN', 'WOMEN', 'ROAD', 'ROADS')]}])"
            ]
          },
          "metadata": {},
          "execution_count": 18
        }
      ],
      "source": [
        "model.wv.evaluate_word_analogies(datapath('questions-words.txt'))"
      ]
    },
    {
      "cell_type": "markdown",
      "metadata": {
        "id": "4FQCHxAmTzn9"
      },
      "source": [
        "This ``evaluate_word_analogies`` method takes an `optional parameter\n",
        "<http://radimrehurek.com/gensim/models/keyedvectors.html#gensim.models.keyedvectors.KeyedVectors.evaluate_word_analogies>`_\n",
        "``restrict_vocab`` which limits which test examples are to be considered.\n",
        "\n",
        "\n"
      ]
    },
    {
      "cell_type": "markdown",
      "metadata": {
        "id": "HXYB9XVQTzn9"
      },
      "source": [
        "In the December 2016 release of Gensim we added a better way to evaluate semantic similarity.\n",
        "\n",
        "By default it uses an academic dataset WS-353 but one can create a dataset\n",
        "specific to your business based on it. It contains word pairs together with\n",
        "human-assigned similarity judgments. It measures the relatedness or\n",
        "co-occurrence of two words. For example, 'coast' and 'shore' are very similar\n",
        "as they appear in the same context. At the same time 'clothes' and 'closet'\n",
        "are less similar because they are related but not interchangeable.\n",
        "\n",
        "\n"
      ]
    },
    {
      "cell_type": "code",
      "execution_count": 19,
      "metadata": {
        "colab": {
          "base_uri": "https://localhost:8080/"
        },
        "id": "S8g4DJr0Tzn9",
        "outputId": "24c00174-085b-42c3-ca46-2be75c9c8ca9"
      },
      "outputs": [
        {
          "output_type": "execute_result",
          "data": {
            "text/plain": [
              "(PearsonRResult(statistic=0.10622784431997101, pvalue=0.41919563833560164),\n",
              " SignificanceResult(statistic=0.1065443941555204, pvalue=0.4178030917428682),\n",
              " 83.0028328611898)"
            ]
          },
          "metadata": {},
          "execution_count": 19
        }
      ],
      "source": [
        "model.wv.evaluate_word_pairs(datapath('wordsim353.tsv'))"
      ]
    },
    {
      "cell_type": "markdown",
      "metadata": {
        "id": "BJX5lGgbTzn-"
      },
      "source": [
        ".. Important::\n",
        "  Good performance on Google's or WS-353 test set doesn’t mean word2vec will\n",
        "  work well in your application, or vice versa. It’s always best to evaluate\n",
        "  directly on your intended task. For an example of how to use word2vec in a\n",
        "  classifier pipeline, see this `tutorial\n",
        "  <https://github.com/RaRe-Technologies/movie-plots-by-genre>`_.\n",
        "\n",
        "\n"
      ]
    },
    {
      "cell_type": "markdown",
      "metadata": {
        "id": "1XtdDlwRTzn-"
      },
      "source": [
        "Online training / Resuming training\n",
        "-----------------------------------\n",
        "\n",
        "Advanced users can load a model and continue training it with more sentences\n",
        "and `new vocabulary words <online_w2v_tutorial.ipynb>`_:\n",
        "\n",
        "\n"
      ]
    },
    {
      "cell_type": "code",
      "execution_count": 20,
      "metadata": {
        "colab": {
          "base_uri": "https://localhost:8080/"
        },
        "id": "7h4VCQ5kTzn-",
        "outputId": "41ece530-ec32-414c-fd8f-d8b4c51f999e"
      },
      "outputs": [
        {
          "output_type": "stream",
          "name": "stderr",
          "text": [
            "WARNING:gensim.models.word2vec:Effective 'alpha' higher than previous training cycles\n"
          ]
        }
      ],
      "source": [
        "model = gensim.models.Word2Vec.load(temporary_filepath)\n",
        "more_sentences = [\n",
        "    ['Advanced', 'users', 'can', 'load', 'a', 'model',\n",
        "     'and', 'continue', 'training', 'it', 'with', 'more', 'sentences'],\n",
        "]\n",
        "model.build_vocab(more_sentences, update=True)\n",
        "model.train(more_sentences, total_examples=model.corpus_count, epochs=model.epochs)\n",
        "\n",
        "# cleaning up temporary file\n",
        "import os\n",
        "os.remove(temporary_filepath)"
      ]
    },
    {
      "cell_type": "markdown",
      "metadata": {
        "id": "JGDgNCzmTzn_"
      },
      "source": [
        "You may need to tweak the ``total_words`` parameter to ``train()``,\n",
        "depending on what learning rate decay you want to simulate.\n",
        "\n",
        "Note that it’s not possible to resume training with models generated by the C\n",
        "tool, ``KeyedVectors.load_word2vec_format()``. You can still use them for\n",
        "querying/similarity, but information vital for training (the vocab tree) is\n",
        "missing there.\n",
        "\n",
        "\n"
      ]
    },
    {
      "cell_type": "markdown",
      "metadata": {
        "id": "4gLnu405Tzn_"
      },
      "source": [
        "Training Loss Computation\n",
        "-------------------------\n",
        "\n",
        "The parameter ``compute_loss`` can be used to toggle computation of loss\n",
        "while training the Word2Vec model. The computed loss is stored in the model\n",
        "attribute ``running_training_loss`` and can be retrieved using the function\n",
        "``get_latest_training_loss`` as follows :\n",
        "\n",
        "\n"
      ]
    },
    {
      "cell_type": "code",
      "execution_count": 21,
      "metadata": {
        "colab": {
          "base_uri": "https://localhost:8080/"
        },
        "id": "01eFQrQYTzn_",
        "outputId": "8e360d0e-a1b6-40c7-a5ce-78ef37e66ffb"
      },
      "outputs": [
        {
          "output_type": "stream",
          "name": "stdout",
          "text": [
            "1347570.5\n"
          ]
        }
      ],
      "source": [
        "# instantiating and training the Word2Vec model\n",
        "model_with_loss = gensim.models.Word2Vec(\n",
        "    sentences,\n",
        "    min_count=1,\n",
        "    compute_loss=True,\n",
        "    hs=0,\n",
        "    sg=1,\n",
        "    seed=42,\n",
        ")\n",
        "\n",
        "# getting the training loss value\n",
        "training_loss = model_with_loss.get_latest_training_loss()\n",
        "print(training_loss)"
      ]
    },
    {
      "cell_type": "markdown",
      "metadata": {
        "id": "jkJ6loiOTzn_"
      },
      "source": [
        "Benchmarks\n",
        "----------\n",
        "\n",
        "Let's run some benchmarks to see effect of the training loss computation code\n",
        "on training time.\n",
        "\n",
        "We'll use the following data for the benchmarks:\n",
        "\n",
        "#. Lee Background corpus: included in gensim's test data\n",
        "#. Text8 corpus.  To demonstrate the effect of corpus size, we'll look at the\n",
        "   first 1MB, 10MB, 50MB of the corpus, as well as the entire thing.\n",
        "\n",
        "\n"
      ]
    },
    {
      "cell_type": "code",
      "execution_count": 22,
      "metadata": {
        "colab": {
          "base_uri": "https://localhost:8080/"
        },
        "id": "iyvSzCebTzoA",
        "outputId": "23cf752d-457f-41ad-afa2-a6c28dba046f"
      },
      "outputs": [
        {
          "output_type": "stream",
          "name": "stdout",
          "text": [
            "[==================================================] 100.0% 31.6/31.6MB downloaded\n"
          ]
        }
      ],
      "source": [
        "import io\n",
        "import os\n",
        "\n",
        "import gensim.models.word2vec\n",
        "import gensim.downloader as api\n",
        "import smart_open\n",
        "\n",
        "\n",
        "def head(path, size):\n",
        "    with smart_open.open(path) as fin:\n",
        "        return io.StringIO(fin.read(size))\n",
        "\n",
        "\n",
        "def generate_input_data():\n",
        "    lee_path = datapath('lee_background.cor')\n",
        "    ls = gensim.models.word2vec.LineSentence(lee_path)\n",
        "    ls.name = '25kB'\n",
        "    yield ls\n",
        "\n",
        "    text8_path = api.load('text8').fn\n",
        "    labels = ('1MB', '10MB', '50MB', '100MB')\n",
        "    sizes = (1024 ** 2, 10 * 1024 ** 2, 50 * 1024 ** 2, 100 * 1024 ** 2)\n",
        "    for l, s in zip(labels, sizes):\n",
        "        ls = gensim.models.word2vec.LineSentence(head(text8_path, s))\n",
        "        ls.name = l\n",
        "        yield ls\n",
        "\n",
        "\n",
        "input_data = list(generate_input_data())"
      ]
    },
    {
      "cell_type": "markdown",
      "metadata": {
        "id": "s2MJASbATzoA"
      },
      "source": [
        "We now compare the training time taken for different combinations of input\n",
        "data and model training parameters like ``hs`` and ``sg``.\n",
        "\n",
        "For each combination, we repeat the test several times to obtain the mean and\n",
        "standard deviation of the test duration.\n",
        "\n",
        "\n"
      ]
    },
    {
      "cell_type": "code",
      "execution_count": 23,
      "metadata": {
        "colab": {
          "base_uri": "https://localhost:8080/"
        },
        "id": "dI_sj3HwTzoA",
        "outputId": "eb475ca9-051c-4aa5-cc1e-5776bc2c605a"
      },
      "outputs": [
        {
          "output_type": "stream",
          "name": "stdout",
          "text": [
            "Word2vec model #0: {'train_data': '25kB', 'compute_loss': True, 'sg': 0, 'hs': 0, 'train_time_mean': 0.5671187241872152, 'train_time_std': 0.019970333221588858}\n"
          ]
        },
        {
          "output_type": "stream",
          "name": "stderr",
          "text": [
            "WARNING:gensim.models.word2vec:Both hierarchical softmax and negative sampling are activated. This is probably a mistake. You should set either 'hs=0' or 'negative=0' to disable one of them. \n"
          ]
        },
        {
          "output_type": "stream",
          "name": "stdout",
          "text": [
            "Word2vec model #1: {'train_data': '25kB', 'compute_loss': False, 'sg': 0, 'hs': 0, 'train_time_mean': 0.36069170633951825, 'train_time_std': 0.05764548119742814}\n"
          ]
        },
        {
          "output_type": "stream",
          "name": "stderr",
          "text": [
            "WARNING:gensim.models.word2vec:Both hierarchical softmax and negative sampling are activated. This is probably a mistake. You should set either 'hs=0' or 'negative=0' to disable one of them. \n",
            "WARNING:gensim.models.word2vec:Both hierarchical softmax and negative sampling are activated. This is probably a mistake. You should set either 'hs=0' or 'negative=0' to disable one of them. \n",
            "WARNING:gensim.models.word2vec:Both hierarchical softmax and negative sampling are activated. This is probably a mistake. You should set either 'hs=0' or 'negative=0' to disable one of them. \n"
          ]
        },
        {
          "output_type": "stream",
          "name": "stdout",
          "text": [
            "Word2vec model #2: {'train_data': '25kB', 'compute_loss': True, 'sg': 0, 'hs': 1, 'train_time_mean': 0.6132818857828776, 'train_time_std': 0.01328712202935895}\n"
          ]
        },
        {
          "output_type": "stream",
          "name": "stderr",
          "text": [
            "WARNING:gensim.models.word2vec:Both hierarchical softmax and negative sampling are activated. This is probably a mistake. You should set either 'hs=0' or 'negative=0' to disable one of them. \n",
            "WARNING:gensim.models.word2vec:Both hierarchical softmax and negative sampling are activated. This is probably a mistake. You should set either 'hs=0' or 'negative=0' to disable one of them. \n"
          ]
        },
        {
          "output_type": "stream",
          "name": "stdout",
          "text": [
            "Word2vec model #3: {'train_data': '25kB', 'compute_loss': False, 'sg': 0, 'hs': 1, 'train_time_mean': 0.5798983573913574, 'train_time_std': 0.0019022843761029669}\n",
            "Word2vec model #4: {'train_data': '25kB', 'compute_loss': True, 'sg': 1, 'hs': 0, 'train_time_mean': 0.8955299854278564, 'train_time_std': 0.005146222907462363}\n"
          ]
        },
        {
          "output_type": "stream",
          "name": "stderr",
          "text": [
            "WARNING:gensim.models.word2vec:Both hierarchical softmax and negative sampling are activated. This is probably a mistake. You should set either 'hs=0' or 'negative=0' to disable one of them. \n"
          ]
        },
        {
          "output_type": "stream",
          "name": "stdout",
          "text": [
            "Word2vec model #5: {'train_data': '25kB', 'compute_loss': False, 'sg': 1, 'hs': 0, 'train_time_mean': 0.8938945134480795, 'train_time_std': 0.01910363723868629}\n"
          ]
        },
        {
          "output_type": "stream",
          "name": "stderr",
          "text": [
            "WARNING:gensim.models.word2vec:Both hierarchical softmax and negative sampling are activated. This is probably a mistake. You should set either 'hs=0' or 'negative=0' to disable one of them. \n",
            "WARNING:gensim.models.word2vec:Both hierarchical softmax and negative sampling are activated. This is probably a mistake. You should set either 'hs=0' or 'negative=0' to disable one of them. \n",
            "WARNING:gensim.models.word2vec:Both hierarchical softmax and negative sampling are activated. This is probably a mistake. You should set either 'hs=0' or 'negative=0' to disable one of them. \n"
          ]
        },
        {
          "output_type": "stream",
          "name": "stdout",
          "text": [
            "Word2vec model #6: {'train_data': '25kB', 'compute_loss': True, 'sg': 1, 'hs': 1, 'train_time_mean': 2.259251435597738, 'train_time_std': 0.38399652571246085}\n"
          ]
        },
        {
          "output_type": "stream",
          "name": "stderr",
          "text": [
            "WARNING:gensim.models.word2vec:Both hierarchical softmax and negative sampling are activated. This is probably a mistake. You should set either 'hs=0' or 'negative=0' to disable one of them. \n",
            "WARNING:gensim.models.word2vec:Both hierarchical softmax and negative sampling are activated. This is probably a mistake. You should set either 'hs=0' or 'negative=0' to disable one of them. \n"
          ]
        },
        {
          "output_type": "stream",
          "name": "stdout",
          "text": [
            "Word2vec model #7: {'train_data': '25kB', 'compute_loss': False, 'sg': 1, 'hs': 1, 'train_time_mean': 1.758159081141154, 'train_time_std': 0.029805100193478876}\n",
            "Word2vec model #8: {'train_data': '1MB', 'compute_loss': True, 'sg': 0, 'hs': 0, 'train_time_mean': 1.2017699877421062, 'train_time_std': 0.3318848347673525}\n",
            "Word2vec model #9: {'train_data': '1MB', 'compute_loss': False, 'sg': 0, 'hs': 0, 'train_time_mean': 1.2604811986287434, 'train_time_std': 0.311565148245659}\n"
          ]
        },
        {
          "output_type": "stream",
          "name": "stderr",
          "text": [
            "WARNING:gensim.models.word2vec:Both hierarchical softmax and negative sampling are activated. This is probably a mistake. You should set either 'hs=0' or 'negative=0' to disable one of them. \n",
            "WARNING:gensim.models.word2vec:Both hierarchical softmax and negative sampling are activated. This is probably a mistake. You should set either 'hs=0' or 'negative=0' to disable one of them. \n",
            "WARNING:gensim.models.word2vec:Both hierarchical softmax and negative sampling are activated. This is probably a mistake. You should set either 'hs=0' or 'negative=0' to disable one of them. \n",
            "WARNING:gensim.models.word2vec:Both hierarchical softmax and negative sampling are activated. This is probably a mistake. You should set either 'hs=0' or 'negative=0' to disable one of them. \n"
          ]
        },
        {
          "output_type": "stream",
          "name": "stdout",
          "text": [
            "Word2vec model #10: {'train_data': '1MB', 'compute_loss': True, 'sg': 0, 'hs': 1, 'train_time_mean': 1.9400962988535564, 'train_time_std': 0.015166635279394805}\n"
          ]
        },
        {
          "output_type": "stream",
          "name": "stderr",
          "text": [
            "WARNING:gensim.models.word2vec:Both hierarchical softmax and negative sampling are activated. This is probably a mistake. You should set either 'hs=0' or 'negative=0' to disable one of them. \n",
            "WARNING:gensim.models.word2vec:Both hierarchical softmax and negative sampling are activated. This is probably a mistake. You should set either 'hs=0' or 'negative=0' to disable one of them. \n"
          ]
        },
        {
          "output_type": "stream",
          "name": "stdout",
          "text": [
            "Word2vec model #11: {'train_data': '1MB', 'compute_loss': False, 'sg': 0, 'hs': 1, 'train_time_mean': 2.403599500656128, 'train_time_std': 0.4411393077032721}\n",
            "Word2vec model #12: {'train_data': '1MB', 'compute_loss': True, 'sg': 1, 'hs': 0, 'train_time_mean': 3.228576183319092, 'train_time_std': 0.18603308945986713}\n",
            "Word2vec model #13: {'train_data': '1MB', 'compute_loss': False, 'sg': 1, 'hs': 0, 'train_time_mean': 3.3694914182027182, 'train_time_std': 0.469401119599681}\n"
          ]
        },
        {
          "output_type": "stream",
          "name": "stderr",
          "text": [
            "WARNING:gensim.models.word2vec:Both hierarchical softmax and negative sampling are activated. This is probably a mistake. You should set either 'hs=0' or 'negative=0' to disable one of them. \n",
            "WARNING:gensim.models.word2vec:Both hierarchical softmax and negative sampling are activated. This is probably a mistake. You should set either 'hs=0' or 'negative=0' to disable one of them. \n",
            "WARNING:gensim.models.word2vec:Both hierarchical softmax and negative sampling are activated. This is probably a mistake. You should set either 'hs=0' or 'negative=0' to disable one of them. \n"
          ]
        },
        {
          "output_type": "stream",
          "name": "stdout",
          "text": [
            "Word2vec model #14: {'train_data': '1MB', 'compute_loss': True, 'sg': 1, 'hs': 1, 'train_time_mean': 7.278091033299764, 'train_time_std': 0.7631284233472403}\n"
          ]
        },
        {
          "output_type": "stream",
          "name": "stderr",
          "text": [
            "WARNING:gensim.models.word2vec:Both hierarchical softmax and negative sampling are activated. This is probably a mistake. You should set either 'hs=0' or 'negative=0' to disable one of them. \n",
            "WARNING:gensim.models.word2vec:Both hierarchical softmax and negative sampling are activated. This is probably a mistake. You should set either 'hs=0' or 'negative=0' to disable one of them. \n",
            "WARNING:gensim.models.word2vec:Both hierarchical softmax and negative sampling are activated. This is probably a mistake. You should set either 'hs=0' or 'negative=0' to disable one of them. \n"
          ]
        },
        {
          "output_type": "stream",
          "name": "stdout",
          "text": [
            "Word2vec model #15: {'train_data': '1MB', 'compute_loss': False, 'sg': 1, 'hs': 1, 'train_time_mean': 6.6817513306935625, 'train_time_std': 0.6578699443449776}\n",
            "Word2vec model #16: {'train_data': '10MB', 'compute_loss': True, 'sg': 0, 'hs': 0, 'train_time_mean': 12.531515757242838, 'train_time_std': 0.13300234740275002}\n",
            "Word2vec model #17: {'train_data': '10MB', 'compute_loss': False, 'sg': 0, 'hs': 0, 'train_time_mean': 13.051188627878824, 'train_time_std': 0.26939203353022734}\n"
          ]
        },
        {
          "output_type": "stream",
          "name": "stderr",
          "text": [
            "WARNING:gensim.models.word2vec:Both hierarchical softmax and negative sampling are activated. This is probably a mistake. You should set either 'hs=0' or 'negative=0' to disable one of them. \n",
            "WARNING:gensim.models.word2vec:Both hierarchical softmax and negative sampling are activated. This is probably a mistake. You should set either 'hs=0' or 'negative=0' to disable one of them. \n",
            "WARNING:gensim.models.word2vec:Both hierarchical softmax and negative sampling are activated. This is probably a mistake. You should set either 'hs=0' or 'negative=0' to disable one of them. \n"
          ]
        },
        {
          "output_type": "stream",
          "name": "stdout",
          "text": [
            "Word2vec model #18: {'train_data': '10MB', 'compute_loss': True, 'sg': 0, 'hs': 1, 'train_time_mean': 27.056825796763103, 'train_time_std': 1.210257903716354}\n"
          ]
        },
        {
          "output_type": "stream",
          "name": "stderr",
          "text": [
            "WARNING:gensim.models.word2vec:Both hierarchical softmax and negative sampling are activated. This is probably a mistake. You should set either 'hs=0' or 'negative=0' to disable one of them. \n",
            "WARNING:gensim.models.word2vec:Both hierarchical softmax and negative sampling are activated. This is probably a mistake. You should set either 'hs=0' or 'negative=0' to disable one of them. \n",
            "WARNING:gensim.models.word2vec:Both hierarchical softmax and negative sampling are activated. This is probably a mistake. You should set either 'hs=0' or 'negative=0' to disable one of them. \n"
          ]
        },
        {
          "output_type": "stream",
          "name": "stdout",
          "text": [
            "Word2vec model #19: {'train_data': '10MB', 'compute_loss': False, 'sg': 0, 'hs': 1, 'train_time_mean': 23.627227783203125, 'train_time_std': 0.7390913222741985}\n",
            "Word2vec model #20: {'train_data': '10MB', 'compute_loss': True, 'sg': 1, 'hs': 0, 'train_time_mean': 40.78785785039266, 'train_time_std': 0.8856584540283766}\n",
            "Word2vec model #21: {'train_data': '10MB', 'compute_loss': False, 'sg': 1, 'hs': 0, 'train_time_mean': 39.97549684842428, 'train_time_std': 0.7202543127262289}\n"
          ]
        },
        {
          "output_type": "stream",
          "name": "stderr",
          "text": [
            "WARNING:gensim.models.word2vec:Both hierarchical softmax and negative sampling are activated. This is probably a mistake. You should set either 'hs=0' or 'negative=0' to disable one of them. \n",
            "WARNING:gensim.models.word2vec:Both hierarchical softmax and negative sampling are activated. This is probably a mistake. You should set either 'hs=0' or 'negative=0' to disable one of them. \n",
            "WARNING:gensim.models.word2vec:Both hierarchical softmax and negative sampling are activated. This is probably a mistake. You should set either 'hs=0' or 'negative=0' to disable one of them. \n"
          ]
        },
        {
          "output_type": "stream",
          "name": "stdout",
          "text": [
            "Word2vec model #22: {'train_data': '10MB', 'compute_loss': True, 'sg': 1, 'hs': 1, 'train_time_mean': 84.24198031425476, 'train_time_std': 0.5831126021824007}\n"
          ]
        },
        {
          "output_type": "stream",
          "name": "stderr",
          "text": [
            "WARNING:gensim.models.word2vec:Both hierarchical softmax and negative sampling are activated. This is probably a mistake. You should set either 'hs=0' or 'negative=0' to disable one of them. \n",
            "WARNING:gensim.models.word2vec:Both hierarchical softmax and negative sampling are activated. This is probably a mistake. You should set either 'hs=0' or 'negative=0' to disable one of them. \n",
            "WARNING:gensim.models.word2vec:Both hierarchical softmax and negative sampling are activated. This is probably a mistake. You should set either 'hs=0' or 'negative=0' to disable one of them. \n"
          ]
        },
        {
          "output_type": "stream",
          "name": "stdout",
          "text": [
            "Word2vec model #23: {'train_data': '10MB', 'compute_loss': False, 'sg': 1, 'hs': 1, 'train_time_mean': 80.67424313227336, 'train_time_std': 0.794925392166683}\n",
            "   train_data  compute_loss  sg  hs  train_time_mean  train_time_std\n",
            "4        25kB          True   1   0         0.895530        0.005146\n",
            "5        25kB         False   1   0         0.893895        0.019104\n",
            "6        25kB          True   1   1         2.259251        0.383997\n",
            "7        25kB         False   1   1         1.758159        0.029805\n",
            "0        25kB          True   0   0         0.567119        0.019970\n",
            "1        25kB         False   0   0         0.360692        0.057645\n",
            "2        25kB          True   0   1         0.613282        0.013287\n",
            "3        25kB         False   0   1         0.579898        0.001902\n",
            "12        1MB          True   1   0         3.228576        0.186033\n",
            "13        1MB         False   1   0         3.369491        0.469401\n",
            "14        1MB          True   1   1         7.278091        0.763128\n",
            "15        1MB         False   1   1         6.681751        0.657870\n",
            "8         1MB          True   0   0         1.201770        0.331885\n",
            "9         1MB         False   0   0         1.260481        0.311565\n",
            "10        1MB          True   0   1         1.940096        0.015167\n",
            "11        1MB         False   0   1         2.403600        0.441139\n",
            "20       10MB          True   1   0        40.787858        0.885658\n",
            "21       10MB         False   1   0        39.975497        0.720254\n",
            "22       10MB          True   1   1        84.241980        0.583113\n",
            "23       10MB         False   1   1        80.674243        0.794925\n",
            "16       10MB          True   0   0        12.531516        0.133002\n",
            "17       10MB         False   0   0        13.051189        0.269392\n",
            "18       10MB          True   0   1        27.056826        1.210258\n",
            "19       10MB         False   0   1        23.627228        0.739091\n"
          ]
        }
      ],
      "source": [
        "# Temporarily reduce logging verbosity\n",
        "logging.root.level = logging.ERROR\n",
        "\n",
        "import time\n",
        "import numpy as np\n",
        "import pandas as pd\n",
        "\n",
        "train_time_values = []\n",
        "seed_val = 42\n",
        "sg_values = [0, 1]\n",
        "hs_values = [0, 1]\n",
        "\n",
        "fast = True\n",
        "if fast:\n",
        "    input_data_subset = input_data[:3]\n",
        "else:\n",
        "    input_data_subset = input_data\n",
        "\n",
        "\n",
        "for data in input_data_subset:\n",
        "    for sg_val in sg_values:\n",
        "        for hs_val in hs_values:\n",
        "            for loss_flag in [True, False]:\n",
        "                time_taken_list = []\n",
        "                for i in range(3):\n",
        "                    start_time = time.time()\n",
        "                    w2v_model = gensim.models.Word2Vec(\n",
        "                        data,\n",
        "                        compute_loss=loss_flag,\n",
        "                        sg=sg_val,\n",
        "                        hs=hs_val,\n",
        "                        seed=seed_val,\n",
        "                    )\n",
        "                    time_taken_list.append(time.time() - start_time)\n",
        "\n",
        "                time_taken_list = np.array(time_taken_list)\n",
        "                time_mean = np.mean(time_taken_list)\n",
        "                time_std = np.std(time_taken_list)\n",
        "\n",
        "                model_result = {\n",
        "                    'train_data': data.name,\n",
        "                    'compute_loss': loss_flag,\n",
        "                    'sg': sg_val,\n",
        "                    'hs': hs_val,\n",
        "                    'train_time_mean': time_mean,\n",
        "                    'train_time_std': time_std,\n",
        "                }\n",
        "                print(\"Word2vec model #%i: %s\" % (len(train_time_values), model_result))\n",
        "                train_time_values.append(model_result)\n",
        "\n",
        "train_times_table = pd.DataFrame(train_time_values)\n",
        "train_times_table = train_times_table.sort_values(\n",
        "    by=['train_data', 'sg', 'hs', 'compute_loss'],\n",
        "    ascending=[False, False, True, False],\n",
        ")\n",
        "print(train_times_table)"
      ]
    },
    {
      "cell_type": "markdown",
      "metadata": {
        "id": "QJwI3hjVTzoA"
      },
      "source": [
        "Visualising Word Embeddings\n",
        "---------------------------\n",
        "\n",
        "The word embeddings made by the model can be visualised by reducing\n",
        "dimensionality of the words to 2 dimensions using tSNE.\n",
        "\n",
        "Visualisations can be used to notice semantic and syntactic trends in the data.\n",
        "\n",
        "Example:\n",
        "\n",
        "* Semantic: words like cat, dog, cow, etc. have a tendency to lie close by\n",
        "* Syntactic: words like run, running or cut, cutting lie close together.\n",
        "\n",
        "Vector relations like vKing - vMan = vQueen - vWoman can also be noticed.\n",
        "\n",
        ".. Important::\n",
        "  The model used for the visualisation is trained on a small corpus. Thus\n",
        "  some of the relations might not be so clear.\n",
        "\n",
        "\n"
      ]
    },
    {
      "cell_type": "code",
      "execution_count": 24,
      "metadata": {
        "id": "2mYh6D4YTzoB",
        "colab": {
          "base_uri": "https://localhost:8080/",
          "height": 984
        },
        "outputId": "6b41664b-6587-4692-a56b-1dccc5da90d4"
      },
      "outputs": [
        {
          "output_type": "display_data",
          "data": {
            "text/plain": [
              "<Figure size 1200x1200 with 1 Axes>"
            ],
            "image/png": "[encoded data removed]"
          },
          "metadata": {}
        }
      ],
      "source": [
        "from sklearn.decomposition import IncrementalPCA    # inital reduction\n",
        "from sklearn.manifold import TSNE                   # final reduction\n",
        "import numpy as np                                  # array handling\n",
        "\n",
        "\n",
        "def reduce_dimensions(model):\n",
        "    num_dimensions = 2  # final num dimensions (2D, 3D, etc)\n",
        "\n",
        "    # extract the words & their vectors, as numpy arrays\n",
        "    vectors = np.asarray(model.wv.vectors)\n",
        "    labels = np.asarray(model.wv.index_to_key)  # fixed-width numpy strings\n",
        "\n",
        "    # reduce using t-SNE\n",
        "    tsne = TSNE(n_components=num_dimensions, random_state=0)\n",
        "    vectors = tsne.fit_transform(vectors)\n",
        "\n",
        "    x_vals = [v[0] for v in vectors]\n",
        "    y_vals = [v[1] for v in vectors]\n",
        "    return x_vals, y_vals, labels\n",
        "\n",
        "\n",
        "x_vals, y_vals, labels = reduce_dimensions(model)\n",
        "\n",
        "def plot_with_plotly(x_vals, y_vals, labels, plot_in_notebook=True):\n",
        "    from plotly.offline import init_notebook_mode, iplot, plot\n",
        "    import plotly.graph_objs as go\n",
        "\n",
        "    trace = go.Scatter(x=x_vals, y=y_vals, mode='text', text=labels)\n",
        "    data = [trace]\n",
        "\n",
        "    if plot_in_notebook:\n",
        "        init_notebook_mode(connected=True)\n",
        "        iplot(data, filename='word-embedding-plot')\n",
        "    else:\n",
        "        plot(data, filename='word-embedding-plot.html')\n",
        "\n",
        "\n",
        "def plot_with_matplotlib(x_vals, y_vals, labels):\n",
        "    import matplotlib.pyplot as plt\n",
        "    import random\n",
        "\n",
        "    random.seed(0)\n",
        "\n",
        "    plt.figure(figsize=(12, 12))\n",
        "    plt.scatter(x_vals, y_vals)\n",
        "\n",
        "    #\n",
        "    # Label randomly subsampled 25 data points\n",
        "    #\n",
        "    indices = list(range(len(labels)))\n",
        "    selected_indices = random.sample(indices, 50)\n",
        "    for i in selected_indices:\n",
        "        plt.annotate(labels[i], (x_vals[i], y_vals[i]))\n",
        "\n",
        "\n",
        "plot_with_matplotlib(x_vals, y_vals, labels)"
      ]
    },
    {
      "cell_type": "markdown",
      "metadata": {
        "id": "MaV-zOjiTzoB"
      },
      "source": [
        "Conclusion\n",
        "----------\n",
        "\n",
        "In this tutorial we learned how to train word2vec models on your custom data\n",
        "and also how to evaluate it. Hope that you too will find this popular tool\n",
        "useful in your Machine Learning tasks!\n",
        "\n",
        "Links\n",
        "-----\n",
        "\n",
        "- API docs: :py:mod:`gensim.models.word2vec`\n",
        "- `Original C toolkit and word2vec papers by Google <https://code.google.com/archive/p/word2vec/>`_.\n",
        "\n",
        "\n"
      ]
    }
  ],
  "metadata": {
    "colab": {
      "provenance": [],
      "gpuType": "T4",
      "toc_visible": true,
      "include_colab_link": true
    },
    "kernelspec": {
      "display_name": "Python 3",
      "name": "python3"
    },
    "language_info": {
      "codemirror_mode": {
        "name": "ipython",
        "version": 3
      },
      "file_extension": ".py",
      "mimetype": "text/x-python",
      "name": "python",
      "nbconvert_exporter": "python",
      "pygments_lexer": "ipython3",
      "version": "3.6.5"
    },
    "accelerator": "GPU"
  },
  "nbformat": 4,
  "nbformat_minor": 0
}